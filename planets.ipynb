{
 "cells": [
  {
   "cell_type": "code",
   "execution_count": 1,
   "metadata": {},
   "outputs": [],
   "source": [
    "import pandas as pd"
   ]
  },
  {
   "cell_type": "code",
   "execution_count": 2,
   "metadata": {},
   "outputs": [
    {
     "data": {
      "text/html": [
       "<div>\n",
       "<style scoped>\n",
       "    .dataframe tbody tr th:only-of-type {\n",
       "        vertical-align: middle;\n",
       "    }\n",
       "\n",
       "    .dataframe tbody tr th {\n",
       "        vertical-align: top;\n",
       "    }\n",
       "\n",
       "    .dataframe thead th {\n",
       "        text-align: right;\n",
       "    }\n",
       "</style>\n",
       "<table border=\"1\" class=\"dataframe\">\n",
       "  <thead>\n",
       "    <tr style=\"text-align: right;\">\n",
       "      <th></th>\n",
       "      <th>Planet</th>\n",
       "      <th>Color</th>\n",
       "      <th>Mass (10^24kg)</th>\n",
       "      <th>Diameter (km)</th>\n",
       "      <th>Density (kg/m^3)</th>\n",
       "      <th>Surface Gravity(m/s^2)</th>\n",
       "      <th>Escape Velocity (km/s)</th>\n",
       "      <th>Rotation Period (hours)</th>\n",
       "      <th>Length of Day (hours)</th>\n",
       "      <th>Distance from Sun (10^6 km)</th>\n",
       "      <th>...</th>\n",
       "      <th>Mean Temperature (C)</th>\n",
       "      <th>Surface Pressure (bars)</th>\n",
       "      <th>Number of Moons</th>\n",
       "      <th>Ring System?</th>\n",
       "      <th>Global Magnetic Field?</th>\n",
       "      <th>Surface Temperature (C)</th>\n",
       "      <th>Atmospheric Composition</th>\n",
       "      <th>Atmospheric Pressure (bars)</th>\n",
       "      <th>Surface Features</th>\n",
       "      <th>Composition</th>\n",
       "    </tr>\n",
       "  </thead>\n",
       "  <tbody>\n",
       "    <tr>\n",
       "      <th>0</th>\n",
       "      <td>Mercury</td>\n",
       "      <td>Grey</td>\n",
       "      <td>0.33</td>\n",
       "      <td>4879</td>\n",
       "      <td>5429</td>\n",
       "      <td>3.7</td>\n",
       "      <td>4.3</td>\n",
       "      <td>1407.6</td>\n",
       "      <td>4222.6</td>\n",
       "      <td>57.9</td>\n",
       "      <td>...</td>\n",
       "      <td>167</td>\n",
       "      <td>0</td>\n",
       "      <td>0</td>\n",
       "      <td>No</td>\n",
       "      <td>Yes</td>\n",
       "      <td>-173 to 427</td>\n",
       "      <td>Mostly None</td>\n",
       "      <td>Trace</td>\n",
       "      <td>Craters, Scarps</td>\n",
       "      <td>Rock and Metal</td>\n",
       "    </tr>\n",
       "  </tbody>\n",
       "</table>\n",
       "<p>1 rows × 27 columns</p>\n",
       "</div>"
      ],
      "text/plain": [
       "    Planet Color  Mass (10^24kg)  Diameter (km)  Density (kg/m^3)  \\\n",
       "0  Mercury  Grey            0.33           4879              5429   \n",
       "\n",
       "   Surface Gravity(m/s^2)  Escape Velocity (km/s)  Rotation Period (hours)  \\\n",
       "0                     3.7                     4.3                   1407.6   \n",
       "\n",
       "   Length of Day (hours)  Distance from Sun (10^6 km)  ...  \\\n",
       "0                 4222.6                         57.9  ...   \n",
       "\n",
       "   Mean Temperature (C)  Surface Pressure (bars) Number of Moons  \\\n",
       "0                   167                        0               0   \n",
       "\n",
       "   Ring System?  Global Magnetic Field?  Surface Temperature (C)  \\\n",
       "0            No                     Yes              -173 to 427   \n",
       "\n",
       "   Atmospheric Composition  Atmospheric Pressure (bars) Surface Features  \\\n",
       "0              Mostly None                        Trace  Craters, Scarps   \n",
       "\n",
       "      Composition  \n",
       "0  Rock and Metal  \n",
       "\n",
       "[1 rows x 27 columns]"
      ]
     },
     "execution_count": 2,
     "metadata": {},
     "output_type": "execute_result"
    }
   ],
   "source": [
    "df = pd.read_csv(r\"C:\\Users\\Shlok Mathur\\Desktop\\practice_codes\\Planets\\planets_updated.csv\")\n",
    "df.head(1)"
   ]
  },
  {
   "cell_type": "code",
   "execution_count": 3,
   "metadata": {},
   "outputs": [],
   "source": [
    "orbital_days = [88, 225, 365.25, 687, 4333, 10759, 30687, 60190]  # Correct number of values (8 planets)\n",
    "\n",
    "df['Orbital_Days'] = orbital_days\n",
    "\n",
    "\n",
    "df.to_csv(r'C:\\Users\\Shlok Mathur\\Desktop\\practice_codes\\Planets\\planets_updated_with_days.csv', index=False)\n",
    "\n"
   ]
  },
  {
   "cell_type": "code",
   "execution_count": 4,
   "metadata": {},
   "outputs": [
    {
     "data": {
      "text/plain": [
       "Index(['Planet', 'Color', 'Mass (10^24kg)', 'Diameter (km)',\n",
       "       'Density (kg/m^3)', 'Surface Gravity(m/s^2)', 'Escape Velocity (km/s)',\n",
       "       'Rotation Period (hours)', 'Length of Day (hours)',\n",
       "       'Distance from Sun (10^6 km)', 'Perihelion (10^6 km)',\n",
       "       'Aphelion (10^6 km)', 'Orbital Period (days)',\n",
       "       'Orbital Velocity (km/s)', 'Orbital Inclination (degrees)',\n",
       "       'Orbital Eccentricity', 'Obliquity to Orbit (degrees)',\n",
       "       'Mean Temperature (C)', 'Surface Pressure (bars)', 'Number of Moons',\n",
       "       'Ring System?', 'Global Magnetic Field?', 'Surface Temperature (C)',\n",
       "       'Atmospheric Composition', 'Atmospheric Pressure (bars)',\n",
       "       'Surface Features', 'Composition', 'Orbital_Days'],\n",
       "      dtype='object')"
      ]
     },
     "execution_count": 4,
     "metadata": {},
     "output_type": "execute_result"
    }
   ],
   "source": [
    "df.columns"
   ]
  },
  {
   "cell_type": "code",
   "execution_count": 5,
   "metadata": {},
   "outputs": [
    {
     "data": {
      "text/plain": [
       "'C:\\\\Users\\\\Shlok Mathur\\\\Desktop\\\\practice_codes\\\\modified_planets.csv'"
      ]
     },
     "execution_count": 5,
     "metadata": {},
     "output_type": "execute_result"
    }
   ],
   "source": [
    "\n",
    "import numpy as np\n",
    "\n",
    "file_path = r\"C:\\Users\\Shlok Mathur\\Desktop\\practice_codes\\Planets\\planets_updated_with_days.csv\"\n",
    "df = pd.read_csv(file_path)\n",
    "\n",
    "df['Semi-major axis (a) (10^6 km)'] = (df['Perihelion (10^6 km)'] + df['Aphelion (10^6 km)']) / 2\n",
    "df['Semi-minor axis (b) (10^6 km)'] = np.sqrt(df['Perihelion (10^6 km)'] * df['Aphelion (10^6 km)'])\n",
    "\n",
    "\n",
    "df['Perimeter (10^6)(km)'] = np.pi * (3 * (df['Semi-major axis (a) (10^6 km)'] \n",
    "+ df['Semi-minor axis (b) (10^6 km)']) - np.sqrt((3 * df['Semi-major axis (a) (10^6 km)']\n",
    " + df['Semi-minor axis (b) (10^6 km)']) *\n",
    "(df['Semi-major axis (a) (10^6 km)'] + 3 * df['Semi-minor axis (b) (10^6 km)'])))\n",
    "\n",
    "\n",
    "columns_to_load = [\n",
    "    'Planet',  \n",
    "    'Diameter (km)',\n",
    "    'Rotation Period (hours)',\n",
    "    'Length of Day (hours)',\n",
    "    'Distance from Sun (10^6 km)',\n",
    "    'Perihelion (10^6 km)',\n",
    "    'Aphelion (10^6 km)',\n",
    "    'Orbital Period (days)',\n",
    "    'Orbital Velocity (km/s)',\n",
    "    'Orbital Inclination (degrees)',\n",
    "    'Orbital_Days',\n",
    "    'Perimeter (10^6)(km)'\n",
    "]\n",
    "\n",
    "df = df[columns_to_load]\n",
    "\n",
    "\n",
    "output_file_path = r\"C:\\Users\\Shlok Mathur\\Desktop\\practice_codes\\modified_planets.csv\"\n",
    "df.to_csv(output_file_path, index=False)\n",
    "\n",
    "output_file_path  \n"
   ]
  },
  {
   "cell_type": "code",
   "execution_count": 6,
   "metadata": {},
   "outputs": [
    {
     "data": {
      "text/plain": [
       "Index(['Planet', 'Diameter (km)', 'Rotation Period (hours)',\n",
       "       'Length of Day (hours)', 'Distance from Sun (10^6 km)',\n",
       "       'Perihelion (10^6 km)', 'Aphelion (10^6 km)', 'Orbital Period (days)',\n",
       "       'Orbital Velocity (km/s)', 'Orbital Inclination (degrees)',\n",
       "       'Orbital_Days', 'Perimeter (10^6)(km)'],\n",
       "      dtype='object')"
      ]
     },
     "execution_count": 6,
     "metadata": {},
     "output_type": "execute_result"
    }
   ],
   "source": [
    "fd = pd.read_csv(r\"C:\\Users\\Shlok Mathur\\Desktop\\practice_codes\\Planets\\modified_planets.csv\")\n",
    "fd.columns"
   ]
  },
  {
   "cell_type": "code",
   "execution_count": 7,
   "metadata": {},
   "outputs": [
    {
     "name": "stdout",
     "output_type": "stream",
     "text": [
      "New Coordinates of the Planets on 2020-12-12 have been saved to 'C:\\Users\\Shlok Mathur\\Desktop\\practice_codes\\Planets\\planet_coordinates_new.csv'\n"
     ]
    }
   ],
   "source": [
    "\n",
    "\n",
    "from datetime import datetime\n",
    "\n",
    "planet_info = pd.read_csv(r'C:\\Users\\Shlok Mathur\\Desktop\\practice_codes\\Planets\\modified_planets.csv')  # Updated columns\n",
    "coordinates = pd.read_csv(r'C:\\Users\\Shlok Mathur\\Desktop\\practice_codes\\Planets\\planetary_coordinates_2025_01_16.csv')  # Updated columns\n",
    "\n",
    "def calculate_angle(revolution_days, velocity, perimeter, time_difference):\n",
    "    \n",
    "    distance_travelled = velocity * time_difference  \n",
    "    angle_moved = (distance_travelled / perimeter) * 360 \n",
    "    return angle_moved\n",
    "\n",
    "\n",
    "def get_new_coordinates(user_date_str):\n",
    "  \n",
    "    user_date = datetime.strptime(user_date_str, \"%Y-%m-%d\") \n",
    "    date_16jan2025 = datetime(2025, 1, 16)\n",
    "    \n",
    "   \n",
    "    time_difference = (user_date - date_16jan2025).days\n",
    "\n",
    "   \n",
    "    new_coordinates = []\n",
    "    for _, planet_row in planet_info.iterrows():\n",
    "        planet = planet_row['Planet']\n",
    "        revolution_days = planet_row['Orbital Period (days)']\n",
    "        velocity = planet_row['Orbital Velocity (km/s)'] * 86400 \n",
    "        perimeter = planet_row['Perimeter (10^6)(km)'] * 1e6 \n",
    "        inclination = np.radians(planet_row['Orbital Inclination (degrees)']) \n",
    "\n",
    "        \n",
    "        initial_coords = coordinates[coordinates['Planet'] == planet].iloc[0]\n",
    "        x, y, z = initial_coords['X (AU)'], initial_coords['Y (AU)'], initial_coords['Z (AU)']\n",
    "        \n",
    "        \n",
    "        angle_moved = calculate_angle(revolution_days, velocity, perimeter, time_difference)\n",
    "\n",
    "       \n",
    "        angle_radians = np.radians(angle_moved)\n",
    "\n",
    "        new_x = x * np.cos(angle_radians) - y * np.sin(angle_radians)\n",
    "        new_y = x * np.sin(angle_radians) + y * np.cos(angle_radians)\n",
    "       \n",
    "        new_z = z * np.cos(inclination) \n",
    "        \n",
    "      \n",
    "        new_coordinates.append({\n",
    "            'Planet': planet,\n",
    "            'New_X (AU)': new_x,\n",
    "            'New_Y (AU)': new_y,\n",
    "            'New_Z (AU)': new_z\n",
    "        })\n",
    "\n",
    "    \n",
    "    new_coords_df = pd.DataFrame(new_coordinates)\n",
    "    return new_coords_df\n",
    "\n",
    "\n",
    "user_date_str = input(\"Enter the new date (YYYY-MM-DD): \") \n",
    "new_coords = get_new_coordinates(user_date_str)\n",
    "\n",
    "\n",
    "output_filename = r\"C:\\Users\\Shlok Mathur\\Desktop\\practice_codes\\Planets\\planet_coordinates_new.csv\"\n",
    "new_coords.to_csv(output_filename, index=False)\n",
    "\n",
    "\n",
    "print(f\"New Coordinates of the Planets on {user_date_str} have been saved to '{output_filename}'\")\n"
   ]
  }
 ],
 "metadata": {
  "kernelspec": {
   "display_name": "Python 3",
   "language": "python",
   "name": "python3"
  },
  "language_info": {
   "codemirror_mode": {
    "name": "ipython",
    "version": 3
   },
   "file_extension": ".py",
   "mimetype": "text/x-python",
   "name": "python",
   "nbconvert_exporter": "python",
   "pygments_lexer": "ipython3",
   "version": "3.13.0"
  }
 },
 "nbformat": 4,
 "nbformat_minor": 2
}
